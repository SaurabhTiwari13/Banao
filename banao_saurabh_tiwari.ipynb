{
  "nbformat": 4,
  "nbformat_minor": 0,
  "metadata": {
    "colab": {
      "provenance": []
    },
    "kernelspec": {
      "name": "python3",
      "display_name": "Python 3"
    },
    "language_info": {
      "name": "python"
    }
  },
  "cells": [
    {
      "cell_type": "code",
      "source": [
        "import requests\n",
        "import time\n",
        "\n",
        "def make_request(url, max_retries=5, delay=2):\n",
        "    for attempt in range(max_retries):\n",
        "        try:\n",
        "            response = requests.get(url)\n",
        "            if response.status_code == 200:\n",
        "                return response\n",
        "        except Exception as e:\n",
        "            print(f\"Error: {e}\")\n",
        "        time.sleep(delay)\n",
        "    return None\n",
        "\n",
        "# Example usage:\n",
        "url = \"https://example.com\"\n",
        "result = make_request(url)\n",
        "if result:\n",
        "    print(f\"Success! Status Code: {result.status_code}\")\n",
        "else:\n",
        "    print(\"Failed after multiple attempts.\")\n"
      ],
      "metadata": {
        "colab": {
          "base_uri": "https://localhost:8080/"
        },
        "id": "c-CJ1Cj5BMIo",
        "outputId": "1993c397-9012-48a9-9799-0dd20f349614"
      },
      "execution_count": 4,
      "outputs": [
        {
          "output_type": "stream",
          "name": "stdout",
          "text": [
            "Success! Status Code: 200\n"
          ]
        }
      ]
    },
    {
      "cell_type": "code",
      "source": [
        "import requests\n",
        "import logging\n",
        "import time\n",
        "\n",
        "# Configure logging\n",
        "logging.basicConfig(level=logging.DEBUG)\n",
        "\n",
        "def make_request(url, max_retries=5, delay=2, timeout=5):\n",
        "    for attempt in range(max_retries):\n",
        "        try:\n",
        "            response = requests.get(url, timeout=timeout)\n",
        "            if response.status_code == 200:\n",
        "                return response\n",
        "        except requests.exceptions.RequestException as e:\n",
        "            logging.error(f\"Error: {e}\")\n",
        "        time.sleep(delay)\n",
        "    return None\n",
        "\n",
        "url = \"https://example.com\"\n",
        "result = make_request(url)\n",
        "\n",
        "if result:\n",
        "    logging.info(f\"Success! Status Code: {result.status_code}\")\n",
        "else:\n",
        "    logging.error(\"Failed after multiple attempts.\")\n"
      ],
      "metadata": {
        "id": "oFmnAH-XBXGn"
      },
      "execution_count": 5,
      "outputs": []
    }
  ]
}